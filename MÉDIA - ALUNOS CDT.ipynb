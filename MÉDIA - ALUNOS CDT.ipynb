{
 "cells": [
  {
   "cell_type": "code",
   "execution_count": 1,
   "id": "1a902a3d",
   "metadata": {},
   "outputs": [],
   "source": [
    "import re\n",
    "\n",
    "import parse\n",
    "import pdfplumber\n",
    "import pandas as pd\n",
    "from collections import namedtuple\n",
    "\n",
    "pd.set_option('display.max_rows', None)  # or 1000"
   ]
  },
  {
   "cell_type": "code",
   "execution_count": 2,
   "id": "b5ac3c01",
   "metadata": {},
   "outputs": [],
   "source": [
    "directory = '2022_2_BIM_CDT'\n",
    "\n",
    "files = ['{directory}/3A Oficial 2 Bim.pdf'.format(directory = directory),\n",
    "        '{directory}/3B Oficial 2 Bim.pdf'.format(directory = directory),\n",
    "        '{directory}/3C Oficial 2 Bim.pdf'.format(directory = directory),\n",
    "        '{directory}/3D Oficial 2 Bim.pdf'.format(directory = directory),\n",
    "        '{directory}/3E Oficial 2 Bim.pdf'.format(directory = directory),\n",
    "        '{directory}/3F Oficial 2 Bim.pdf'.format(directory = directory),\n",
    "        '{directory}/3G Oficial 2Bim.pdf'.format(directory = directory),\n",
    "        '{directory}/3H Oficial 2Bim.pdf'.format(directory = directory),\n",
    "        '{directory}/3I Oficial 2 Bim.pdf'.format(directory = directory),\n",
    "        '{directory}/3J Oficial 2 Bim.pdf'.format(directory = directory),\n",
    "        '{directory}/3K Oficial 2 Bim.pdf'.format(directory = directory),\n",
    "        '{directory}/3L Oficial 2 Bim.pdf'.format(directory = directory),\n",
    "        '{directory}/3M Oficial 2 Bim.pdf'.format(directory = directory),\n",
    "        '{directory}/3N Oficial 2 Bim.pdf'.format(directory = directory),\n",
    "        '{directory}/3O Oficial 2 Bim.pdf'.format(directory = directory),\n",
    "        '{directory}/3P Oficial 2 Bim.pdf'.format(directory = directory)]\n",
    "        \n"
   ]
  },
  {
   "cell_type": "code",
   "execution_count": 3,
   "id": "4c788a26",
   "metadata": {},
   "outputs": [],
   "source": [
    "Line = namedtuple('Line', 'Nome')"
   ]
  },
  {
   "cell_type": "code",
   "execution_count": 4,
   "id": "f4d5eb92",
   "metadata": {},
   "outputs": [],
   "source": [
    "name_re = re.compile(r'(Nome:) (.*) (Data)')\n",
    "ra_re = re.compile(r'(RA:) (.*) (RM:)')\n"
   ]
  },
  {
   "cell_type": "code",
   "execution_count": null,
   "id": "61af63ad",
   "metadata": {},
   "outputs": [],
   "source": [
    "base_df = pd.DataFrame(columns=['TURMA', 'NOME', 'RA', 'MEDIA'])\n",
    "\n",
    "for file in files:\n",
    "    stu_class = file[15:17]\n",
    "    \n",
    "    with pdfplumber.open(file) as pdf:\n",
    "\n",
    "        for page in pdf.pages[0:]:\n",
    "            table = page.extract_table(table_settings={\"vertical_strategy\": \"lines\", \n",
    "                                                       \"horizontal_strategy\": \"lines\", \n",
    "                                                       \"snap_tolerance\": 3})\n",
    "\n",
    "            ################# EXTRAÇÃO DE NOMES E RA #####################\n",
    "\n",
    "            text = page.extract_text()\n",
    "\n",
    "            for line in text.split('\\n'):\n",
    "                name = name_re.search(line)\n",
    "                ra = ra_re.search(line)\n",
    "\n",
    "                if name:\n",
    "                    name_A = name.group(2) \n",
    "\n",
    "                if ra:\n",
    "                    ra_A = str(ra.group(2))\n",
    "\n",
    "\n",
    "            ################# LÓGICA DE NOTAS ###################\n",
    "\n",
    "            df = pd.DataFrame(table, columns=table[0]).T\n",
    "            \n",
    "            #### OS BIMESTRES SÃO SELECIONADOS AQUI ###\n",
    "            df1 = df.iloc[3:, 10:12].replace(\"ES\", None).replace(\"ET\", None).replace(\"EP\", None).replace(\"\", None)\n",
    "\n",
    "            columnNames = ['BIM_1','BIM_2']\n",
    "\n",
    "            df1.columns = columnNames\n",
    "\n",
    "            #EXCLUIR MATÉRIAS - NOTAS DO ALUNO\n",
    "            df2 = df1.drop('TOTAIS').drop('ENSINO MEDIO').drop('ED. FISICA')\n",
    "\n",
    "            #print(df2)\n",
    "            #if page == pdf.pages[0]:\n",
    "            #    print(1)\n",
    "\n",
    "            #REMOÇÃO DE STRINGS E NULOS\n",
    "\n",
    "            df3 = df2.apply(pd.to_numeric, errors='coerce')\n",
    "\n",
    "            mean_by_bim = df3\n",
    "            mean_stu = df3.stack(level=-1, dropna=True).mean()\n",
    "            \n",
    "            \n",
    "\n",
    "            temp_df = pd.DataFrame({'TURMA': [stu_class], 'NOME': [name_A], 'RA':[ra_A], 'MEDIA':[mean_stu]}) \n",
    "\n",
    "            base_df = pd.concat((base_df, temp_df) , axis = 0)\n",
    "        \n",
    "        \n"
   ]
  },
  {
   "cell_type": "markdown",
   "id": "ba52dfe0",
   "metadata": {},
   "source": [
    "A primeira etapa consolida as notas de todos os alunos. BASE_DF já considera a média de todos eles"
   ]
  },
  {
   "cell_type": "markdown",
   "id": "0bbcf753",
   "metadata": {},
   "source": [
    "Na segunda etapa é possível que alguns alunos tenham mudado de turma (mudança de horário). O código abaixo remove o alunos que apresentam notas em mais de uma turma."
   ]
  },
  {
   "cell_type": "code",
   "execution_count": null,
   "id": "01571018",
   "metadata": {},
   "outputs": [],
   "source": [
    "#CONTANDO QUANTAS VEZES O ALUNO APARECE NO TOTAL\n",
    "astu = base_df.groupby(\"NOME\").count().rename({'RA': 'VEZES'}, axis=1)\n",
    "\n",
    "#JUNTANDO COM A BASE FINAL\n",
    "dfNew = base_df.merge(astu, on = ['NOME'],\n",
    "             how='left', suffixes=('', '_DROP')).filter(regex='^(?!.*_DROP)')\n",
    "\n",
    "#SELECIONANDO APENAS ALUNOS COM NOME DUPLICADO\n",
    "dss = dfNew.where(dfNew['VEZES']>1).dropna()\n",
    "#double_stu = temp_df[temp_df['NOME'].isin(dss.index)]\n",
    "\n",
    "#display(dss.sort_values('NOME'))"
   ]
  },
  {
   "cell_type": "markdown",
   "id": "dff26ead",
   "metadata": {},
   "source": [
    "O código a seguir remove esses alunos com turma duplicada"
   ]
  },
  {
   "cell_type": "code",
   "execution_count": null,
   "id": "bf1b3a02",
   "metadata": {},
   "outputs": [],
   "source": [
    "base_df_removed_stu = base_df[~base_df['NOME'].isin((dss['NOME']))]\n"
   ]
  },
  {
   "cell_type": "code",
   "execution_count": null,
   "id": "7c9eddc6",
   "metadata": {},
   "outputs": [],
   "source": [
    "temp_double_students = pd.DataFrame(columns=['TURMA','NOME', 'RA', 'BIM_1', 'BIM_2'])\n",
    "double_students = pd.DataFrame(columns=['NOME', 'RA', 'MÉDIA'])\n",
    "\n",
    "for file in files:\n",
    "    stu_class = file[15:17]\n",
    "    \n",
    "    with pdfplumber.open(file) as pdf:\n",
    "\n",
    "        for page in pdf.pages[0:]:\n",
    "            table = page.extract_table(table_settings={\"vertical_strategy\": \"lines\", \n",
    "                                                       \"horizontal_strategy\": \"lines\", \n",
    "                                                       \"snap_tolerance\": 3})\n",
    "\n",
    "            ################# EXTRAÇÃO DE NOMES E RA #####################\n",
    "\n",
    "            text = page.extract_text()\n",
    "\n",
    "            for line in text.split('\\n'):\n",
    "                name = name_re.search(line)\n",
    "                ra = ra_re.search(line)\n",
    "\n",
    "                if name:\n",
    "                    name_A = name.group(2) \n",
    "\n",
    "                if ra:\n",
    "                    ra_A = str(ra.group(2))\n",
    "                    \n",
    "            df = pd.DataFrame(table, columns=table[0]).T\n",
    "            \n",
    "            if name_A  in list(dss['NOME']):\n",
    "                df = pd.DataFrame(table, columns=table[0]).T\n",
    "            \n",
    "                #### OS BIMESTRES SÃO SELECIONADOS AQUI ###\n",
    "                df1 = df.iloc[3:, 10:12].replace(\"ES\", None).replace(\"ET\", None).replace(\"EP\", None).replace(\"\", None)\n",
    "\n",
    "                ['BIM_1','BIM_2']\n",
    "\n",
    "                df1.columns = columnNames\n",
    "\n",
    "                #EXCLUIR MATÉRIAS - NOTAS DO ALUNO\n",
    "                df2 = df1.drop('TOTAIS').drop('ENSINO MEDIO').drop('ED. FISICA')\n",
    "\n",
    "                #REMOÇÃO DE STRINGS E NULOS\n",
    "\n",
    "                df3 = df2.apply(pd.to_numeric, errors='coerce')\n",
    "\n",
    "                mean_by_bim = df3\n",
    "                \n",
    "                mean_by_bim['TURMA'] = 'MULTIPLAS'\n",
    "                \n",
    "                mean_by_bim['NOME'] = name_A\n",
    "                \n",
    "                mean_by_bim['RA'] = ra_A\n",
    "                                \n",
    "                temp_double_students = pd.concat((temp_double_students, mean_by_bim) , axis = 0)\n",
    "                "
   ]
  },
  {
   "cell_type": "code",
   "execution_count": null,
   "id": "c6e90392",
   "metadata": {},
   "outputs": [],
   "source": [
    "r = temp_double_students\n",
    "r2 = r.reset_index()\n",
    "r3 = r2.groupby(['TURMA', 'NOME','index', 'RA']).sum(min_count=1)\n",
    "\n",
    "\n",
    "r4 = r3.mean(axis = 1)\n",
    "\n",
    "r5 = r4.groupby(['TURMA','NOME', 'RA']).mean().reset_index(name ='MEDIA')\n"
   ]
  },
  {
   "cell_type": "code",
   "execution_count": null,
   "id": "46285314",
   "metadata": {},
   "outputs": [],
   "source": [
    "base_final = pd.concat((base_df_removed_stu, r5) , axis = 0)"
   ]
  },
  {
   "cell_type": "code",
   "execution_count": null,
   "id": "0b2f6407",
   "metadata": {},
   "outputs": [],
   "source": [
    "base_final.to_csv('medias_cdt_2022_sem1.csv', sep='\\t')"
   ]
  },
  {
   "cell_type": "code",
   "execution_count": null,
   "id": "fd67ef66",
   "metadata": {},
   "outputs": [],
   "source": [
    "display(base_final.loc[base_final['NOME'] == 'nome aluno'])"
   ]
  }
 ],
 "metadata": {
  "kernelspec": {
   "display_name": "Python 3 (ipykernel)",
   "language": "python",
   "name": "python3"
  },
  "language_info": {
   "codemirror_mode": {
    "name": "ipython",
    "version": 3
   },
   "file_extension": ".py",
   "mimetype": "text/x-python",
   "name": "python",
   "nbconvert_exporter": "python",
   "pygments_lexer": "ipython3",
   "version": "3.9.12"
  }
 },
 "nbformat": 4,
 "nbformat_minor": 5
}
